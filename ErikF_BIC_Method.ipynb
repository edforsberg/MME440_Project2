{
 "cells": [
  {
   "cell_type": "code",
   "execution_count": null,
   "metadata": {},
   "outputs": [],
   "source": [
    "import matplotlib.pyplot as plt\n",
    "import matplotlib\n",
    "import numpy as np\n",
    "import random\n",
    "from sklearn.utils import shuffle\n",
    "from sklearn import cluster\n",
    "import CreateDataFunctions as df\n",
    "from scipy.spatial import distance\n",
    "from array import *\n",
    "data1, c1  = df.Data_gussian_cluster()\n",
    "data2, c2 = df.Data_circ_cluster()\n",
    "data3, c3 = df.Data_separated_clusters()"
   ]
  },
  {
   "cell_type": "code",
   "execution_count": null,
   "metadata": {},
   "outputs": [],
   "source": [
    "plt.scatter(data1[:,0],data1[:,1],s=1,c=c1)\n",
    "plt.show()\n",
    "plt.scatter(data2[:,0],data2[:,1],s=1,c=c2)\n",
    "plt.show()\n",
    "plt.scatter(data3[:,0],data3[:,1],s=1,c=c3)\n",
    "plt.show()"
   ]
  },
  {
   "cell_type": "code",
   "execution_count": null,
   "metadata": {},
   "outputs": [],
   "source": [
    "def ComputeBIC_kmeans(kmeans, data):\n",
    "    centers = [kmeans.cluster_centers_]\n",
    "    print(centers)\n",
    "    labels  = kmeans.labels_\n",
    "    m = kmeans.n_clusters\n",
    "    n = np.bincount(labels)\n",
    "    N, d = data.shape\n",
    "    \n",
    "    cl_var = (1.0 / (N - m) / d) * sum([sum(distance.cdist(data[np.where(labels == i)],\n",
    "    [centers[0][i]], 'euclidean')**2) for i in range(m)])\n",
    "    const_term = 0.5 * m * np.log(N) * (d+1)\n",
    "    \n",
    "    \n",
    "    #BIC = [cl_var + i*d*np.log(n) for i in range(m)]\n",
    "    BIC = (np.sum([n[i] * np.log(n[i]) -\n",
    "        n[i] * np.log(N) -\n",
    "            ((n[i] * d) / 2) * np.log(2*np.pi*cl_var) -\n",
    "           ((n[i] - 1) * d/ 2) for i in range(m)]) - const_term)*(-1)\n",
    "    \n",
    "    return(BIC)\n",
    "    \n",
    "    \n"
   ]
  },
  {
   "cell_type": "code",
   "execution_count": null,
   "metadata": {},
   "outputs": [],
   "source": [
    "def getCentresFromLabels(labels, data, nrClusters):\n",
    "    means = np.zeros((nrClusters,data.shape[1]))\n",
    "    for i in range(nrClusters):\n",
    "        dat = data[labels == i]\n",
    "        for j in range(dat.shape[1]):\n",
    "            means[i,j] = np.mean(dat[:,j])\n",
    "    return means\n",
    "\n",
    "def ComputeBIC_spec_clus(SpectralClustering, data):\n",
    "    labels  = SpectralClustering.labels_    \n",
    "    m = SpectralClustering.n_clusters\n",
    "    n = np.bincount(labels)\n",
    "    N, d = data.shape\n",
    "    centers = getCentresFromLabels(labels, data, m)\n",
    "    \n",
    "    cl_var = (1.0 / (N - m) / d) * sum([sum(distance.cdist(data[np.where(labels == i)],\n",
    "    [centers[i,:]], 'euclidean')**2) for i in range(m)])\n",
    "    const_term = 0.5 * m * np.log(N) * (d+1)\n",
    "    \n",
    "    \n",
    "    #BIC = [cl_var + i*d*np.log(n) for i in range(m)]\n",
    "    BIC = (np.sum([n[i] * np.log(n[i]) -\n",
    "        n[i] * np.log(N) -\n",
    "            ((n[i] * d) / 2) * np.log(2*np.pi*cl_var) -\n",
    "           ((n[i] - 1) * d/ 2) for i in range(m)]) - const_term)*(-1)\n",
    "    \n",
    "    return(BIC)"
   ]
  },
  {
   "cell_type": "code",
   "execution_count": null,
   "metadata": {},
   "outputs": [],
   "source": [
    "ks = range(1,12)\n",
    "KMeans1 = [cluster.KMeans(n_clusters = k, init=\"k-means++\").fit(data1) for k in ks]\n",
    "KMeans2 = [cluster.KMeans(n_clusters = k, init=\"k-means++\").fit(data2) for k in ks]\n",
    "KMeans3 = [cluster.KMeans(n_clusters = k, init=\"k-means++\").fit(data3) for k in ks]\n",
    "BIC_kmeans1 = [ComputeBIC_kmeans(kmeansi,data1) for kmeansi in KMeans1]\n",
    "BIC_kmeans2 = [ComputeBIC_kmeans(kmeansi,data2) for kmeansi in KMeans2]\n",
    "BIC_kmeans3 = [ComputeBIC_kmeans(kmeansi,data3) for kmeansi in KMeans3]"
   ]
  },
  {
   "cell_type": "code",
   "execution_count": null,
   "metadata": {},
   "outputs": [],
   "source": [
    "ks = range(1,12)\n",
    "SpecClus1 = [cluster.SpectralClustering(k,eigen_solver='arpack',affinity=\"nearest_neighbors\").fit(data1) for k in ks]\n",
    "BIC_SpecClus1 = [ComputeBIC_spec_clus(kmeansi,data1) for kmeansi in SpecClus1]\n",
    "SpecClus2 = [cluster.SpectralClustering(k,eigen_solver='arpack',affinity=\"nearest_neighbors\").fit(data2) for k in ks]\n",
    "BIC_SpecClus2 = [ComputeBIC_spec_clus(kmeansi,data2) for kmeansi in SpecClus2]\n",
    "SpecClus3 = [cluster.SpectralClustering(k,eigen_solver='arpack',affinity=\"nearest_neighbors\").fit(data3) for k in ks]\n",
    "BIC_SpecClus3 = [ComputeBIC_spec_clus(kmeansi,data3) for kmeansi in SpecClus3]"
   ]
  },
  {
   "cell_type": "code",
   "execution_count": null,
   "metadata": {
    "scrolled": false
   },
   "outputs": [],
   "source": [
    "print(BIC_kmeans1)\n",
    "plt.plot(ks,BIC_kmeans1,'b-o')\n",
    "plt.title(\"data  (cluster vs BIC)\")\n",
    "plt.xlabel(\"number of clusters\")\n",
    "plt.ylabel(\"value for BIC\")\n",
    "plt.show()\n",
    "print(BIC_kmeans2)\n",
    "plt.plot(ks,BIC_kmeans2,'b-o')\n",
    "plt.title(\"data  (cluster vs BIC)\")\n",
    "plt.xlabel(\"number of clusters\")\n",
    "plt.ylabel(\"value for BIC\")\n",
    "plt.show()\n",
    "print(BIC_kmeans3)\n",
    "plt.plot(ks,BIC_kmeans3,'b-o')\n",
    "plt.title(\"data  (cluster vs BIC)\")\n",
    "plt.xlabel(\"number of clusters\")\n",
    "plt.ylabel(\"value for BIC\")\n",
    "plt.show()\n",
    "\n",
    "\n"
   ]
  },
  {
   "cell_type": "code",
   "execution_count": null,
   "metadata": {},
   "outputs": [],
   "source": [
    "print(BIC_SpecClus1)\n",
    "plt.plot(ks,BIC_SpecClus1,'b-o')\n",
    "plt.title(\"data  (cluster vs BIC)\")\n",
    "plt.xlabel(\"number of clusters\")\n",
    "plt.ylabel(\"value for BIC\")\n",
    "plt.show()\n",
    "print(BIC_SpecClus2)\n",
    "plt.plot(ks,BIC_SpecClus2,'b-o')\n",
    "plt.title(\"data  (cluster vs BIC)\")\n",
    "plt.xlabel(\"number of clusters\")\n",
    "plt.ylabel(\"value for BIC\")\n",
    "plt.show()\n",
    "print(BIC_SpecClus3)\n",
    "plt.plot(ks,BIC_SpecClus3,'b-o')\n",
    "plt.title(\"data  (cluster vs BIC)\")\n",
    "plt.xlabel(\"number of clusters\")\n",
    "plt.ylabel(\"value for BIC\")\n",
    "plt.show()"
   ]
  }
 ],
 "metadata": {
  "kernelspec": {
   "display_name": "Python 3",
   "language": "python",
   "name": "python3"
  },
  "language_info": {
   "codemirror_mode": {
    "name": "ipython",
    "version": 3
   },
   "file_extension": ".py",
   "mimetype": "text/x-python",
   "name": "python",
   "nbconvert_exporter": "python",
   "pygments_lexer": "ipython3",
   "version": "3.7.3"
  }
 },
 "nbformat": 4,
 "nbformat_minor": 2
}
